{
  "cells": [
    {
      "cell_type": "markdown",
      "metadata": {
        "id": "view-in-github",
        "colab_type": "text"
      },
      "source": [
        "<a href=\"https://colab.research.google.com/github/JonCrook/icl-ml-portfolio/blob/main/M10_Tree_Ensembles_E_JonC.ipynb\" target=\"_parent\"><img src=\"https://colab.research.google.com/assets/colab-badge.svg\" alt=\"Open In Colab\"/></a>"
      ]
    },
    {
      "cell_type": "code",
      "execution_count": null,
      "id": "a797b870",
      "metadata": {
        "id": "a797b870"
      },
      "outputs": [],
      "source": [
        "import numpy as np\n",
        "import pandas as pd\n",
        "from sklearn import tree, ensemble\n",
        "import matplotlib.pyplot as plt\n",
        "from sklearn.datasets import load_wine\n",
        "from sklearn.inspection import permutation_importance"
      ]
    },
    {
      "cell_type": "markdown",
      "id": "6c214882",
      "metadata": {
        "id": "6c214882"
      },
      "source": [
        "# Tree Ensembles "
      ]
    },
    {
      "cell_type": "markdown",
      "id": "09bcefa0",
      "metadata": {
        "id": "09bcefa0"
      },
      "source": [
        "## Assignment overview \n",
        "\n",
        "In this assignment you will build two types of tree ensemble models: Random Forest and Boosted. You will then investigate two methods for feature selection. \n",
        "\n",
        "###### Outline:\n",
        "\n",
        "\n",
        "- [Part 1](#part1)- Importing the data set and formatting it \n",
        "- [Part 2](#part2)- Fitting a single decision tree\n",
        "- [Part 3](#part3)- Using a Random Forest Classifier\n",
        "- [Part 4](#part4)- Using the AdaBoost Classifier\n",
        "- [Part 5](#part5)- Choosing the best classifier and retraining using all the samples, testing on the test set\n",
        "- [Part 6](#part6)- Feature selection\n"
      ]
    },
    {
      "cell_type": "markdown",
      "id": "e296396e",
      "metadata": {
        "id": "e296396e"
      },
      "source": [
        "[Back to top](#Index:) \n",
        "\n",
        "<a id='part1'></a>\n",
        "\n",
        "### Part 1 - Importing the data set\n",
        "\n",
        "For this excercise we will be using a data set from the University of Medicine and Pharmacy of Craiova, Romania to predict the hospitalisation period of patients after colon cancer operations based on socio-economic variables and clinical information. You can read more about the data and it's origins [here](https://figshare.com/articles/dataset/LOS_Colon_Cancer_621_cases/4747246/1). "
      ]
    },
    {
      "cell_type": "markdown",
      "id": "35151b8a",
      "metadata": {
        "id": "35151b8a"
      },
      "source": [
        "The data is stored in xlsx format again in the `colon_data.xlsx` file. Use the `read_excel()` function to load it."
      ]
    },
    {
      "cell_type": "code",
      "source": [
        "from google.colab import drive\n",
        "drive.mount('/content/drive')"
      ],
      "metadata": {
        "colab": {
          "base_uri": "https://localhost:8080/"
        },
        "id": "HJrJfNWqpeyq",
        "outputId": "813d27d6-675b-4711-ec2b-8dcf72f4184a"
      },
      "id": "HJrJfNWqpeyq",
      "execution_count": null,
      "outputs": [
        {
          "output_type": "stream",
          "name": "stdout",
          "text": [
            "Drive already mounted at /content/drive; to attempt to forcibly remount, call drive.mount(\"/content/drive\", force_remount=True).\n"
          ]
        }
      ]
    },
    {
      "cell_type": "code",
      "execution_count": null,
      "id": "740ef9b0",
      "metadata": {
        "colab": {
          "base_uri": "https://localhost:8080/"
        },
        "id": "740ef9b0",
        "outputId": "9a357fc7-bbec-484f-e4fe-9fe047c2a7cc"
      },
      "outputs": [
        {
          "output_type": "execute_result",
          "data": {
            "text/plain": [
              "298"
            ]
          },
          "metadata": {},
          "execution_count": 154
        }
      ],
      "source": [
        "df = pd.read_excel(\"/content/drive/MyDrive/ColabData/colon_data.xlsx\")\n",
        "len(df)"
      ]
    },
    {
      "cell_type": "markdown",
      "id": "5701b326",
      "metadata": {
        "id": "5701b326"
      },
      "source": [
        "Use the `.head()` function to visulise the data."
      ]
    },
    {
      "cell_type": "code",
      "execution_count": null,
      "id": "510a42a8",
      "metadata": {
        "scrolled": true,
        "colab": {
          "base_uri": "https://localhost:8080/",
          "height": 363
        },
        "id": "510a42a8",
        "outputId": "5e9dca22-b7b7-4ab7-f0a8-fd40d082e381"
      },
      "outputs": [
        {
          "output_type": "execute_result",
          "data": {
            "text/plain": [
              "   AGE SEX TOPOGRAPHY  STAGE   T   N   M SURGERY   CLASS\n",
              "0   64   M       rect  three  T4  Nx  Mx     ten  medium\n",
              "1   70   M       rect  three  T4  Nx  Mx     ten  medium\n",
              "2   76   F        cec  three  T3  Nx  Mx   three  medium\n",
              "3   62   M        cec  three  T2  Nx  Mx   three   short\n",
              "4   62   M        cec    two  T2  Nx  Mx   three   short\n",
              "5   62   F        cec    two  T2  Nx  Mx   three   short\n",
              "6   41   M        cec    two  T3  Nx  Mx   three  medium\n",
              "7   82   F        cec    two  T2  Nx  Mx   three   short\n",
              "8   76   F        cec    two  T2  Nx  Mx   three   short\n",
              "9   76   M        cec  three  T3  Nx  Mx   three  medium"
            ],
            "text/html": [
              "\n",
              "  <div id=\"df-9f6fb8c5-ced4-403c-8281-77b24b85140d\">\n",
              "    <div class=\"colab-df-container\">\n",
              "      <div>\n",
              "<style scoped>\n",
              "    .dataframe tbody tr th:only-of-type {\n",
              "        vertical-align: middle;\n",
              "    }\n",
              "\n",
              "    .dataframe tbody tr th {\n",
              "        vertical-align: top;\n",
              "    }\n",
              "\n",
              "    .dataframe thead th {\n",
              "        text-align: right;\n",
              "    }\n",
              "</style>\n",
              "<table border=\"1\" class=\"dataframe\">\n",
              "  <thead>\n",
              "    <tr style=\"text-align: right;\">\n",
              "      <th></th>\n",
              "      <th>AGE</th>\n",
              "      <th>SEX</th>\n",
              "      <th>TOPOGRAPHY</th>\n",
              "      <th>STAGE</th>\n",
              "      <th>T</th>\n",
              "      <th>N</th>\n",
              "      <th>M</th>\n",
              "      <th>SURGERY</th>\n",
              "      <th>CLASS</th>\n",
              "    </tr>\n",
              "  </thead>\n",
              "  <tbody>\n",
              "    <tr>\n",
              "      <th>0</th>\n",
              "      <td>64</td>\n",
              "      <td>M</td>\n",
              "      <td>rect</td>\n",
              "      <td>three</td>\n",
              "      <td>T4</td>\n",
              "      <td>Nx</td>\n",
              "      <td>Mx</td>\n",
              "      <td>ten</td>\n",
              "      <td>medium</td>\n",
              "    </tr>\n",
              "    <tr>\n",
              "      <th>1</th>\n",
              "      <td>70</td>\n",
              "      <td>M</td>\n",
              "      <td>rect</td>\n",
              "      <td>three</td>\n",
              "      <td>T4</td>\n",
              "      <td>Nx</td>\n",
              "      <td>Mx</td>\n",
              "      <td>ten</td>\n",
              "      <td>medium</td>\n",
              "    </tr>\n",
              "    <tr>\n",
              "      <th>2</th>\n",
              "      <td>76</td>\n",
              "      <td>F</td>\n",
              "      <td>cec</td>\n",
              "      <td>three</td>\n",
              "      <td>T3</td>\n",
              "      <td>Nx</td>\n",
              "      <td>Mx</td>\n",
              "      <td>three</td>\n",
              "      <td>medium</td>\n",
              "    </tr>\n",
              "    <tr>\n",
              "      <th>3</th>\n",
              "      <td>62</td>\n",
              "      <td>M</td>\n",
              "      <td>cec</td>\n",
              "      <td>three</td>\n",
              "      <td>T2</td>\n",
              "      <td>Nx</td>\n",
              "      <td>Mx</td>\n",
              "      <td>three</td>\n",
              "      <td>short</td>\n",
              "    </tr>\n",
              "    <tr>\n",
              "      <th>4</th>\n",
              "      <td>62</td>\n",
              "      <td>M</td>\n",
              "      <td>cec</td>\n",
              "      <td>two</td>\n",
              "      <td>T2</td>\n",
              "      <td>Nx</td>\n",
              "      <td>Mx</td>\n",
              "      <td>three</td>\n",
              "      <td>short</td>\n",
              "    </tr>\n",
              "    <tr>\n",
              "      <th>5</th>\n",
              "      <td>62</td>\n",
              "      <td>F</td>\n",
              "      <td>cec</td>\n",
              "      <td>two</td>\n",
              "      <td>T2</td>\n",
              "      <td>Nx</td>\n",
              "      <td>Mx</td>\n",
              "      <td>three</td>\n",
              "      <td>short</td>\n",
              "    </tr>\n",
              "    <tr>\n",
              "      <th>6</th>\n",
              "      <td>41</td>\n",
              "      <td>M</td>\n",
              "      <td>cec</td>\n",
              "      <td>two</td>\n",
              "      <td>T3</td>\n",
              "      <td>Nx</td>\n",
              "      <td>Mx</td>\n",
              "      <td>three</td>\n",
              "      <td>medium</td>\n",
              "    </tr>\n",
              "    <tr>\n",
              "      <th>7</th>\n",
              "      <td>82</td>\n",
              "      <td>F</td>\n",
              "      <td>cec</td>\n",
              "      <td>two</td>\n",
              "      <td>T2</td>\n",
              "      <td>Nx</td>\n",
              "      <td>Mx</td>\n",
              "      <td>three</td>\n",
              "      <td>short</td>\n",
              "    </tr>\n",
              "    <tr>\n",
              "      <th>8</th>\n",
              "      <td>76</td>\n",
              "      <td>F</td>\n",
              "      <td>cec</td>\n",
              "      <td>two</td>\n",
              "      <td>T2</td>\n",
              "      <td>Nx</td>\n",
              "      <td>Mx</td>\n",
              "      <td>three</td>\n",
              "      <td>short</td>\n",
              "    </tr>\n",
              "    <tr>\n",
              "      <th>9</th>\n",
              "      <td>76</td>\n",
              "      <td>M</td>\n",
              "      <td>cec</td>\n",
              "      <td>three</td>\n",
              "      <td>T3</td>\n",
              "      <td>Nx</td>\n",
              "      <td>Mx</td>\n",
              "      <td>three</td>\n",
              "      <td>medium</td>\n",
              "    </tr>\n",
              "  </tbody>\n",
              "</table>\n",
              "</div>\n",
              "      <button class=\"colab-df-convert\" onclick=\"convertToInteractive('df-9f6fb8c5-ced4-403c-8281-77b24b85140d')\"\n",
              "              title=\"Convert this dataframe to an interactive table.\"\n",
              "              style=\"display:none;\">\n",
              "        \n",
              "  <svg xmlns=\"http://www.w3.org/2000/svg\" height=\"24px\"viewBox=\"0 0 24 24\"\n",
              "       width=\"24px\">\n",
              "    <path d=\"M0 0h24v24H0V0z\" fill=\"none\"/>\n",
              "    <path d=\"M18.56 5.44l.94 2.06.94-2.06 2.06-.94-2.06-.94-.94-2.06-.94 2.06-2.06.94zm-11 1L8.5 8.5l.94-2.06 2.06-.94-2.06-.94L8.5 2.5l-.94 2.06-2.06.94zm10 10l.94 2.06.94-2.06 2.06-.94-2.06-.94-.94-2.06-.94 2.06-2.06.94z\"/><path d=\"M17.41 7.96l-1.37-1.37c-.4-.4-.92-.59-1.43-.59-.52 0-1.04.2-1.43.59L10.3 9.45l-7.72 7.72c-.78.78-.78 2.05 0 2.83L4 21.41c.39.39.9.59 1.41.59.51 0 1.02-.2 1.41-.59l7.78-7.78 2.81-2.81c.8-.78.8-2.07 0-2.86zM5.41 20L4 18.59l7.72-7.72 1.47 1.35L5.41 20z\"/>\n",
              "  </svg>\n",
              "      </button>\n",
              "      \n",
              "  <style>\n",
              "    .colab-df-container {\n",
              "      display:flex;\n",
              "      flex-wrap:wrap;\n",
              "      gap: 12px;\n",
              "    }\n",
              "\n",
              "    .colab-df-convert {\n",
              "      background-color: #E8F0FE;\n",
              "      border: none;\n",
              "      border-radius: 50%;\n",
              "      cursor: pointer;\n",
              "      display: none;\n",
              "      fill: #1967D2;\n",
              "      height: 32px;\n",
              "      padding: 0 0 0 0;\n",
              "      width: 32px;\n",
              "    }\n",
              "\n",
              "    .colab-df-convert:hover {\n",
              "      background-color: #E2EBFA;\n",
              "      box-shadow: 0px 1px 2px rgba(60, 64, 67, 0.3), 0px 1px 3px 1px rgba(60, 64, 67, 0.15);\n",
              "      fill: #174EA6;\n",
              "    }\n",
              "\n",
              "    [theme=dark] .colab-df-convert {\n",
              "      background-color: #3B4455;\n",
              "      fill: #D2E3FC;\n",
              "    }\n",
              "\n",
              "    [theme=dark] .colab-df-convert:hover {\n",
              "      background-color: #434B5C;\n",
              "      box-shadow: 0px 1px 3px 1px rgba(0, 0, 0, 0.15);\n",
              "      filter: drop-shadow(0px 1px 2px rgba(0, 0, 0, 0.3));\n",
              "      fill: #FFFFFF;\n",
              "    }\n",
              "  </style>\n",
              "\n",
              "      <script>\n",
              "        const buttonEl =\n",
              "          document.querySelector('#df-9f6fb8c5-ced4-403c-8281-77b24b85140d button.colab-df-convert');\n",
              "        buttonEl.style.display =\n",
              "          google.colab.kernel.accessAllowed ? 'block' : 'none';\n",
              "\n",
              "        async function convertToInteractive(key) {\n",
              "          const element = document.querySelector('#df-9f6fb8c5-ced4-403c-8281-77b24b85140d');\n",
              "          const dataTable =\n",
              "            await google.colab.kernel.invokeFunction('convertToInteractive',\n",
              "                                                     [key], {});\n",
              "          if (!dataTable) return;\n",
              "\n",
              "          const docLinkHtml = 'Like what you see? Visit the ' +\n",
              "            '<a target=\"_blank\" href=https://colab.research.google.com/notebooks/data_table.ipynb>data table notebook</a>'\n",
              "            + ' to learn more about interactive tables.';\n",
              "          element.innerHTML = '';\n",
              "          dataTable['output_type'] = 'display_data';\n",
              "          await google.colab.output.renderOutput(dataTable, element);\n",
              "          const docLink = document.createElement('div');\n",
              "          docLink.innerHTML = docLinkHtml;\n",
              "          element.appendChild(docLink);\n",
              "        }\n",
              "      </script>\n",
              "    </div>\n",
              "  </div>\n",
              "  "
            ]
          },
          "metadata": {},
          "execution_count": 155
        }
      ],
      "source": [
        "df.head(10)"
      ]
    },
    {
      "cell_type": "code",
      "source": [
        "df['CLASS'].unique()"
      ],
      "metadata": {
        "colab": {
          "base_uri": "https://localhost:8080/"
        },
        "id": "EBl-n1dCsXHs",
        "outputId": "49633c80-0111-41da-cfff-3eda988a82e4"
      },
      "id": "EBl-n1dCsXHs",
      "execution_count": null,
      "outputs": [
        {
          "output_type": "execute_result",
          "data": {
            "text/plain": [
              "array(['medium', 'short', 'long'], dtype=object)"
            ]
          },
          "metadata": {},
          "execution_count": 156
        }
      ]
    },
    {
      "cell_type": "markdown",
      "id": "192a6f15",
      "metadata": {
        "id": "192a6f15"
      },
      "source": [
        "First we want to replace the categorical values of the output (the `CLASS` variable) with numerical values. Fill in the gaps below to use the `.replace()` function to do this."
      ]
    },
    {
      "cell_type": "code",
      "execution_count": null,
      "id": "67a236a9",
      "metadata": {
        "id": "67a236a9"
      },
      "outputs": [],
      "source": [
        "df['CLASS'].replace(to_replace=['short', 'medium', 'long'] , value=[1, 2, 3] , inplace=True) "
      ]
    },
    {
      "cell_type": "code",
      "source": [
        "df.info()"
      ],
      "metadata": {
        "colab": {
          "base_uri": "https://localhost:8080/"
        },
        "id": "Av2PLO7csxKb",
        "outputId": "31694c9f-a6f8-4512-a798-0979f02a35ae"
      },
      "id": "Av2PLO7csxKb",
      "execution_count": null,
      "outputs": [
        {
          "output_type": "stream",
          "name": "stdout",
          "text": [
            "<class 'pandas.core.frame.DataFrame'>\n",
            "RangeIndex: 298 entries, 0 to 297\n",
            "Data columns (total 9 columns):\n",
            " #   Column      Non-Null Count  Dtype \n",
            "---  ------      --------------  ----- \n",
            " 0   AGE         298 non-null    int64 \n",
            " 1   SEX         298 non-null    object\n",
            " 2   TOPOGRAPHY  298 non-null    object\n",
            " 3   STAGE       298 non-null    object\n",
            " 4   T           298 non-null    object\n",
            " 5   N           298 non-null    object\n",
            " 6   M           298 non-null    object\n",
            " 7   SURGERY     298 non-null    object\n",
            " 8   CLASS       298 non-null    int64 \n",
            "dtypes: int64(2), object(7)\n",
            "memory usage: 21.1+ KB\n"
          ]
        }
      ]
    },
    {
      "cell_type": "markdown",
      "id": "0104c15e",
      "metadata": {
        "id": "0104c15e"
      },
      "source": [
        "Now use the `get_dummies()` function to transform the other categorical variables to numerical ones. "
      ]
    },
    {
      "cell_type": "code",
      "execution_count": null,
      "id": "dec8a21d",
      "metadata": {
        "scrolled": true,
        "id": "dec8a21d"
      },
      "outputs": [],
      "source": [
        "df = pd.get_dummies(df)"
      ]
    },
    {
      "cell_type": "markdown",
      "id": "8c3205e5",
      "metadata": {
        "id": "8c3205e5"
      },
      "source": [
        "The following cell is just to ensure the 'CLASS' variable is the last column."
      ]
    },
    {
      "cell_type": "code",
      "execution_count": null,
      "id": "acaf2457",
      "metadata": {
        "id": "acaf2457"
      },
      "outputs": [],
      "source": [
        "columns = df.columns.to_list()\n",
        "columns.remove('CLASS')\n",
        "df = df[columns + ['CLASS']]"
      ]
    },
    {
      "cell_type": "code",
      "source": [
        "df.head(10)"
      ],
      "metadata": {
        "colab": {
          "base_uri": "https://localhost:8080/",
          "height": 456
        },
        "id": "41P2CkQptYU5",
        "outputId": "47d41052-4d73-46ce-eeda-611c45cc5535"
      },
      "id": "41P2CkQptYU5",
      "execution_count": null,
      "outputs": [
        {
          "output_type": "execute_result",
          "data": {
            "text/plain": [
              "   AGE  SEX_F  SEX_M  TOPOGRAPHY_cec  TOPOGRAPHY_colon_asc  \\\n",
              "0   64      0      1               0                     0   \n",
              "1   70      0      1               0                     0   \n",
              "2   76      1      0               1                     0   \n",
              "3   62      0      1               1                     0   \n",
              "4   62      0      1               1                     0   \n",
              "5   62      1      0               1                     0   \n",
              "6   41      0      1               1                     0   \n",
              "7   82      1      0               1                     0   \n",
              "8   76      1      0               1                     0   \n",
              "9   76      0      1               1                     0   \n",
              "\n",
              "   TOPOGRAPHY_colon_desc  TOPOGRAPHY_colon_sigm  TOPOGRAPHY_colon_trans  \\\n",
              "0                      0                      0                       0   \n",
              "1                      0                      0                       0   \n",
              "2                      0                      0                       0   \n",
              "3                      0                      0                       0   \n",
              "4                      0                      0                       0   \n",
              "5                      0                      0                       0   \n",
              "6                      0                      0                       0   \n",
              "7                      0                      0                       0   \n",
              "8                      0                      0                       0   \n",
              "9                      0                      0                       0   \n",
              "\n",
              "   TOPOGRAPHY_jonc_rect_sigm  TOPOGRAPHY_rect  ...  N_N2  N_Nx  M_M0  M_M1  \\\n",
              "0                          0                1  ...     0     1     0     0   \n",
              "1                          0                1  ...     0     1     0     0   \n",
              "2                          0                0  ...     0     1     0     0   \n",
              "3                          0                0  ...     0     1     0     0   \n",
              "4                          0                0  ...     0     1     0     0   \n",
              "5                          0                0  ...     0     1     0     0   \n",
              "6                          0                0  ...     0     1     0     0   \n",
              "7                          0                0  ...     0     1     0     0   \n",
              "8                          0                0  ...     0     1     0     0   \n",
              "9                          0                0  ...     0     1     0     0   \n",
              "\n",
              "   M_M1_hep  M_Mx  SURGERY_ten  SURGERY_three  SURGERY_two  CLASS  \n",
              "0         0     1            1              0            0      2  \n",
              "1         0     1            1              0            0      2  \n",
              "2         0     1            0              1            0      2  \n",
              "3         0     1            0              1            0      1  \n",
              "4         0     1            0              1            0      1  \n",
              "5         0     1            0              1            0      1  \n",
              "6         0     1            0              1            0      2  \n",
              "7         0     1            0              1            0      1  \n",
              "8         0     1            0              1            0      1  \n",
              "9         0     1            0              1            0      2  \n",
              "\n",
              "[10 rows x 31 columns]"
            ],
            "text/html": [
              "\n",
              "  <div id=\"df-52fbffae-91e8-47bd-82cc-33289d56ee4b\">\n",
              "    <div class=\"colab-df-container\">\n",
              "      <div>\n",
              "<style scoped>\n",
              "    .dataframe tbody tr th:only-of-type {\n",
              "        vertical-align: middle;\n",
              "    }\n",
              "\n",
              "    .dataframe tbody tr th {\n",
              "        vertical-align: top;\n",
              "    }\n",
              "\n",
              "    .dataframe thead th {\n",
              "        text-align: right;\n",
              "    }\n",
              "</style>\n",
              "<table border=\"1\" class=\"dataframe\">\n",
              "  <thead>\n",
              "    <tr style=\"text-align: right;\">\n",
              "      <th></th>\n",
              "      <th>AGE</th>\n",
              "      <th>SEX_F</th>\n",
              "      <th>SEX_M</th>\n",
              "      <th>TOPOGRAPHY_cec</th>\n",
              "      <th>TOPOGRAPHY_colon_asc</th>\n",
              "      <th>TOPOGRAPHY_colon_desc</th>\n",
              "      <th>TOPOGRAPHY_colon_sigm</th>\n",
              "      <th>TOPOGRAPHY_colon_trans</th>\n",
              "      <th>TOPOGRAPHY_jonc_rect_sigm</th>\n",
              "      <th>TOPOGRAPHY_rect</th>\n",
              "      <th>...</th>\n",
              "      <th>N_N2</th>\n",
              "      <th>N_Nx</th>\n",
              "      <th>M_M0</th>\n",
              "      <th>M_M1</th>\n",
              "      <th>M_M1_hep</th>\n",
              "      <th>M_Mx</th>\n",
              "      <th>SURGERY_ten</th>\n",
              "      <th>SURGERY_three</th>\n",
              "      <th>SURGERY_two</th>\n",
              "      <th>CLASS</th>\n",
              "    </tr>\n",
              "  </thead>\n",
              "  <tbody>\n",
              "    <tr>\n",
              "      <th>0</th>\n",
              "      <td>64</td>\n",
              "      <td>0</td>\n",
              "      <td>1</td>\n",
              "      <td>0</td>\n",
              "      <td>0</td>\n",
              "      <td>0</td>\n",
              "      <td>0</td>\n",
              "      <td>0</td>\n",
              "      <td>0</td>\n",
              "      <td>1</td>\n",
              "      <td>...</td>\n",
              "      <td>0</td>\n",
              "      <td>1</td>\n",
              "      <td>0</td>\n",
              "      <td>0</td>\n",
              "      <td>0</td>\n",
              "      <td>1</td>\n",
              "      <td>1</td>\n",
              "      <td>0</td>\n",
              "      <td>0</td>\n",
              "      <td>2</td>\n",
              "    </tr>\n",
              "    <tr>\n",
              "      <th>1</th>\n",
              "      <td>70</td>\n",
              "      <td>0</td>\n",
              "      <td>1</td>\n",
              "      <td>0</td>\n",
              "      <td>0</td>\n",
              "      <td>0</td>\n",
              "      <td>0</td>\n",
              "      <td>0</td>\n",
              "      <td>0</td>\n",
              "      <td>1</td>\n",
              "      <td>...</td>\n",
              "      <td>0</td>\n",
              "      <td>1</td>\n",
              "      <td>0</td>\n",
              "      <td>0</td>\n",
              "      <td>0</td>\n",
              "      <td>1</td>\n",
              "      <td>1</td>\n",
              "      <td>0</td>\n",
              "      <td>0</td>\n",
              "      <td>2</td>\n",
              "    </tr>\n",
              "    <tr>\n",
              "      <th>2</th>\n",
              "      <td>76</td>\n",
              "      <td>1</td>\n",
              "      <td>0</td>\n",
              "      <td>1</td>\n",
              "      <td>0</td>\n",
              "      <td>0</td>\n",
              "      <td>0</td>\n",
              "      <td>0</td>\n",
              "      <td>0</td>\n",
              "      <td>0</td>\n",
              "      <td>...</td>\n",
              "      <td>0</td>\n",
              "      <td>1</td>\n",
              "      <td>0</td>\n",
              "      <td>0</td>\n",
              "      <td>0</td>\n",
              "      <td>1</td>\n",
              "      <td>0</td>\n",
              "      <td>1</td>\n",
              "      <td>0</td>\n",
              "      <td>2</td>\n",
              "    </tr>\n",
              "    <tr>\n",
              "      <th>3</th>\n",
              "      <td>62</td>\n",
              "      <td>0</td>\n",
              "      <td>1</td>\n",
              "      <td>1</td>\n",
              "      <td>0</td>\n",
              "      <td>0</td>\n",
              "      <td>0</td>\n",
              "      <td>0</td>\n",
              "      <td>0</td>\n",
              "      <td>0</td>\n",
              "      <td>...</td>\n",
              "      <td>0</td>\n",
              "      <td>1</td>\n",
              "      <td>0</td>\n",
              "      <td>0</td>\n",
              "      <td>0</td>\n",
              "      <td>1</td>\n",
              "      <td>0</td>\n",
              "      <td>1</td>\n",
              "      <td>0</td>\n",
              "      <td>1</td>\n",
              "    </tr>\n",
              "    <tr>\n",
              "      <th>4</th>\n",
              "      <td>62</td>\n",
              "      <td>0</td>\n",
              "      <td>1</td>\n",
              "      <td>1</td>\n",
              "      <td>0</td>\n",
              "      <td>0</td>\n",
              "      <td>0</td>\n",
              "      <td>0</td>\n",
              "      <td>0</td>\n",
              "      <td>0</td>\n",
              "      <td>...</td>\n",
              "      <td>0</td>\n",
              "      <td>1</td>\n",
              "      <td>0</td>\n",
              "      <td>0</td>\n",
              "      <td>0</td>\n",
              "      <td>1</td>\n",
              "      <td>0</td>\n",
              "      <td>1</td>\n",
              "      <td>0</td>\n",
              "      <td>1</td>\n",
              "    </tr>\n",
              "    <tr>\n",
              "      <th>5</th>\n",
              "      <td>62</td>\n",
              "      <td>1</td>\n",
              "      <td>0</td>\n",
              "      <td>1</td>\n",
              "      <td>0</td>\n",
              "      <td>0</td>\n",
              "      <td>0</td>\n",
              "      <td>0</td>\n",
              "      <td>0</td>\n",
              "      <td>0</td>\n",
              "      <td>...</td>\n",
              "      <td>0</td>\n",
              "      <td>1</td>\n",
              "      <td>0</td>\n",
              "      <td>0</td>\n",
              "      <td>0</td>\n",
              "      <td>1</td>\n",
              "      <td>0</td>\n",
              "      <td>1</td>\n",
              "      <td>0</td>\n",
              "      <td>1</td>\n",
              "    </tr>\n",
              "    <tr>\n",
              "      <th>6</th>\n",
              "      <td>41</td>\n",
              "      <td>0</td>\n",
              "      <td>1</td>\n",
              "      <td>1</td>\n",
              "      <td>0</td>\n",
              "      <td>0</td>\n",
              "      <td>0</td>\n",
              "      <td>0</td>\n",
              "      <td>0</td>\n",
              "      <td>0</td>\n",
              "      <td>...</td>\n",
              "      <td>0</td>\n",
              "      <td>1</td>\n",
              "      <td>0</td>\n",
              "      <td>0</td>\n",
              "      <td>0</td>\n",
              "      <td>1</td>\n",
              "      <td>0</td>\n",
              "      <td>1</td>\n",
              "      <td>0</td>\n",
              "      <td>2</td>\n",
              "    </tr>\n",
              "    <tr>\n",
              "      <th>7</th>\n",
              "      <td>82</td>\n",
              "      <td>1</td>\n",
              "      <td>0</td>\n",
              "      <td>1</td>\n",
              "      <td>0</td>\n",
              "      <td>0</td>\n",
              "      <td>0</td>\n",
              "      <td>0</td>\n",
              "      <td>0</td>\n",
              "      <td>0</td>\n",
              "      <td>...</td>\n",
              "      <td>0</td>\n",
              "      <td>1</td>\n",
              "      <td>0</td>\n",
              "      <td>0</td>\n",
              "      <td>0</td>\n",
              "      <td>1</td>\n",
              "      <td>0</td>\n",
              "      <td>1</td>\n",
              "      <td>0</td>\n",
              "      <td>1</td>\n",
              "    </tr>\n",
              "    <tr>\n",
              "      <th>8</th>\n",
              "      <td>76</td>\n",
              "      <td>1</td>\n",
              "      <td>0</td>\n",
              "      <td>1</td>\n",
              "      <td>0</td>\n",
              "      <td>0</td>\n",
              "      <td>0</td>\n",
              "      <td>0</td>\n",
              "      <td>0</td>\n",
              "      <td>0</td>\n",
              "      <td>...</td>\n",
              "      <td>0</td>\n",
              "      <td>1</td>\n",
              "      <td>0</td>\n",
              "      <td>0</td>\n",
              "      <td>0</td>\n",
              "      <td>1</td>\n",
              "      <td>0</td>\n",
              "      <td>1</td>\n",
              "      <td>0</td>\n",
              "      <td>1</td>\n",
              "    </tr>\n",
              "    <tr>\n",
              "      <th>9</th>\n",
              "      <td>76</td>\n",
              "      <td>0</td>\n",
              "      <td>1</td>\n",
              "      <td>1</td>\n",
              "      <td>0</td>\n",
              "      <td>0</td>\n",
              "      <td>0</td>\n",
              "      <td>0</td>\n",
              "      <td>0</td>\n",
              "      <td>0</td>\n",
              "      <td>...</td>\n",
              "      <td>0</td>\n",
              "      <td>1</td>\n",
              "      <td>0</td>\n",
              "      <td>0</td>\n",
              "      <td>0</td>\n",
              "      <td>1</td>\n",
              "      <td>0</td>\n",
              "      <td>1</td>\n",
              "      <td>0</td>\n",
              "      <td>2</td>\n",
              "    </tr>\n",
              "  </tbody>\n",
              "</table>\n",
              "<p>10 rows × 31 columns</p>\n",
              "</div>\n",
              "      <button class=\"colab-df-convert\" onclick=\"convertToInteractive('df-52fbffae-91e8-47bd-82cc-33289d56ee4b')\"\n",
              "              title=\"Convert this dataframe to an interactive table.\"\n",
              "              style=\"display:none;\">\n",
              "        \n",
              "  <svg xmlns=\"http://www.w3.org/2000/svg\" height=\"24px\"viewBox=\"0 0 24 24\"\n",
              "       width=\"24px\">\n",
              "    <path d=\"M0 0h24v24H0V0z\" fill=\"none\"/>\n",
              "    <path d=\"M18.56 5.44l.94 2.06.94-2.06 2.06-.94-2.06-.94-.94-2.06-.94 2.06-2.06.94zm-11 1L8.5 8.5l.94-2.06 2.06-.94-2.06-.94L8.5 2.5l-.94 2.06-2.06.94zm10 10l.94 2.06.94-2.06 2.06-.94-2.06-.94-.94-2.06-.94 2.06-2.06.94z\"/><path d=\"M17.41 7.96l-1.37-1.37c-.4-.4-.92-.59-1.43-.59-.52 0-1.04.2-1.43.59L10.3 9.45l-7.72 7.72c-.78.78-.78 2.05 0 2.83L4 21.41c.39.39.9.59 1.41.59.51 0 1.02-.2 1.41-.59l7.78-7.78 2.81-2.81c.8-.78.8-2.07 0-2.86zM5.41 20L4 18.59l7.72-7.72 1.47 1.35L5.41 20z\"/>\n",
              "  </svg>\n",
              "      </button>\n",
              "      \n",
              "  <style>\n",
              "    .colab-df-container {\n",
              "      display:flex;\n",
              "      flex-wrap:wrap;\n",
              "      gap: 12px;\n",
              "    }\n",
              "\n",
              "    .colab-df-convert {\n",
              "      background-color: #E8F0FE;\n",
              "      border: none;\n",
              "      border-radius: 50%;\n",
              "      cursor: pointer;\n",
              "      display: none;\n",
              "      fill: #1967D2;\n",
              "      height: 32px;\n",
              "      padding: 0 0 0 0;\n",
              "      width: 32px;\n",
              "    }\n",
              "\n",
              "    .colab-df-convert:hover {\n",
              "      background-color: #E2EBFA;\n",
              "      box-shadow: 0px 1px 2px rgba(60, 64, 67, 0.3), 0px 1px 3px 1px rgba(60, 64, 67, 0.15);\n",
              "      fill: #174EA6;\n",
              "    }\n",
              "\n",
              "    [theme=dark] .colab-df-convert {\n",
              "      background-color: #3B4455;\n",
              "      fill: #D2E3FC;\n",
              "    }\n",
              "\n",
              "    [theme=dark] .colab-df-convert:hover {\n",
              "      background-color: #434B5C;\n",
              "      box-shadow: 0px 1px 3px 1px rgba(0, 0, 0, 0.15);\n",
              "      filter: drop-shadow(0px 1px 2px rgba(0, 0, 0, 0.3));\n",
              "      fill: #FFFFFF;\n",
              "    }\n",
              "  </style>\n",
              "\n",
              "      <script>\n",
              "        const buttonEl =\n",
              "          document.querySelector('#df-52fbffae-91e8-47bd-82cc-33289d56ee4b button.colab-df-convert');\n",
              "        buttonEl.style.display =\n",
              "          google.colab.kernel.accessAllowed ? 'block' : 'none';\n",
              "\n",
              "        async function convertToInteractive(key) {\n",
              "          const element = document.querySelector('#df-52fbffae-91e8-47bd-82cc-33289d56ee4b');\n",
              "          const dataTable =\n",
              "            await google.colab.kernel.invokeFunction('convertToInteractive',\n",
              "                                                     [key], {});\n",
              "          if (!dataTable) return;\n",
              "\n",
              "          const docLinkHtml = 'Like what you see? Visit the ' +\n",
              "            '<a target=\"_blank\" href=https://colab.research.google.com/notebooks/data_table.ipynb>data table notebook</a>'\n",
              "            + ' to learn more about interactive tables.';\n",
              "          element.innerHTML = '';\n",
              "          dataTable['output_type'] = 'display_data';\n",
              "          await google.colab.output.renderOutput(dataTable, element);\n",
              "          const docLink = document.createElement('div');\n",
              "          docLink.innerHTML = docLinkHtml;\n",
              "          element.appendChild(docLink);\n",
              "        }\n",
              "      </script>\n",
              "    </div>\n",
              "  </div>\n",
              "  "
            ]
          },
          "metadata": {},
          "execution_count": 161
        }
      ]
    },
    {
      "cell_type": "markdown",
      "id": "f3fd8d76",
      "metadata": {
        "id": "f3fd8d76"
      },
      "source": [
        "We will now process the data similar to how we did for the loan data set activity."
      ]
    },
    {
      "cell_type": "markdown",
      "id": "f38c7b46",
      "metadata": {
        "id": "f38c7b46"
      },
      "source": [
        "Run the cell below to convert the `df` into a `NumPy` array"
      ]
    },
    {
      "cell_type": "code",
      "execution_count": null,
      "id": "7d6e0a84",
      "metadata": {
        "id": "7d6e0a84"
      },
      "outputs": [],
      "source": [
        "Xy=np.array(df)"
      ]
    },
    {
      "cell_type": "markdown",
      "id": "fc4cd620",
      "metadata": {
        "id": "fc4cd620"
      },
      "source": [
        "For reproducibility, set the random seed = 1. You can do this by using the `NumPy` function `random.seed()`. Assign your seed to the variable `seed`. Next, complete the code cell below by using the function `random.shuffle()` on `Xy`."
      ]
    },
    {
      "cell_type": "code",
      "execution_count": null,
      "id": "b4c2e837",
      "metadata": {
        "id": "b4c2e837"
      },
      "outputs": [],
      "source": [
        "seed = np.random.seed(1)\n",
        "np.random.shuffle(Xy)\n"
      ]
    },
    {
      "cell_type": "markdown",
      "id": "3ad5f5c5",
      "metadata": {
        "id": "3ad5f5c5"
      },
      "source": [
        "Before splitting the data into a training set, a test set, and a validation set, we need to divide `Xy` into two arrays: the first one, `X`, a 2D array containing all the predictors and the second, `y`, a 1D array with the response. \n",
        "\n",
        "Run the code cell below to generate `X`. Complete the remaining code to define `y`."
      ]
    },
    {
      "cell_type": "code",
      "execution_count": null,
      "id": "ded6cfad",
      "metadata": {
        "id": "ded6cfad"
      },
      "outputs": [],
      "source": [
        "X=Xy[:,:-1]\n",
        "y=Xy[:,-1]"
      ]
    },
    {
      "cell_type": "code",
      "execution_count": null,
      "id": "15889d85",
      "metadata": {
        "id": "15889d85"
      },
      "outputs": [],
      "source": [
        "#define y\n",
        "y=Xy[:,-1]"
      ]
    },
    {
      "cell_type": "markdown",
      "id": "4c81f25f",
      "metadata": {
        "id": "4c81f25f"
      },
      "source": [
        "Next, we need to split the messages into into 50% training data, 25% validation data, and 25% test data.\n",
        "\n",
        "Run the code below to split `X` and `y` into training, validation and test sets."
      ]
    },
    {
      "cell_type": "code",
      "execution_count": null,
      "id": "1da25589",
      "metadata": {
        "id": "1da25589"
      },
      "outputs": [],
      "source": [
        "trainsize = int(len(df)/2)\n",
        "trainplusvalsize = int(len(df)/4)\n",
        "X_train=X[:trainsize]\n",
        "X_val=X[trainsize:trainsize + trainplusvalsize]\n",
        "X_test=X[trainsize + trainplusvalsize:]\n",
        "\n",
        "y_train=y[:trainsize]\n",
        "y_val=y[trainsize:trainsize + trainplusvalsize]\n",
        "y_test=y[trainsize + trainplusvalsize:]"
      ]
    },
    {
      "cell_type": "markdown",
      "id": "555ed343",
      "metadata": {
        "id": "555ed343"
      },
      "source": [
        "[Back to top](#Index:) \n",
        "\n",
        "<a id='part2'></a>\n",
        "\n",
        "### Part 2: Fit a Single Decision Tree \n",
        "\n",
        "Use the same code as you used for the loan dataset notebook to fit decision trees with different depths up to `max_depth = 15`. Select the best depth - you will compare this to your tree ensemble methods later. "
      ]
    },
    {
      "cell_type": "code",
      "execution_count": null,
      "id": "f612d975",
      "metadata": {
        "scrolled": true,
        "colab": {
          "base_uri": "https://localhost:8080/"
        },
        "id": "f612d975",
        "outputId": "aa8a96a5-6e6e-420a-f4dc-4dc062ac4657"
      },
      "outputs": [
        {
          "output_type": "stream",
          "name": "stdout",
          "text": [
            "Depth: 1 Train Score: 0.7383 Validation Score: 0.6081\n",
            "Depth: 2 Train Score: 0.7987 Validation Score: 0.6892\n",
            "Depth: 3 Train Score: 0.8456 Validation Score: 0.7568\n",
            "Depth: 4 Train Score: 0.8658 Validation Score: 0.7432\n",
            "Depth: 5 Train Score: 0.9128 Validation Score: 0.7297\n",
            "Depth: 6 Train Score: 0.9463 Validation Score: 0.7568\n",
            "Depth: 7 Train Score: 0.9664 Validation Score: 0.7432\n",
            "Depth: 8 Train Score: 0.9732 Validation Score: 0.7703\n",
            "Depth: 9 Train Score: 0.9799 Validation Score: 0.7432\n",
            "Depth: 10 Train Score: 0.9933 Validation Score: 0.7703\n",
            "Depth: 11 Train Score: 0.9933 Validation Score: 0.7568\n",
            "Depth: 12 Train Score: 0.9933 Validation Score: 0.7432\n",
            "Depth: 13 Train Score: 0.9933 Validation Score: 0.7703\n",
            "Depth: 14 Train Score: 0.9933 Validation Score: 0.7432\n",
            "Depth: 15 Train Score: 0.9933 Validation Score: 0.7703\n",
            "Best depth= 8 best score= 0.7702702702702703\n"
          ]
        }
      ],
      "source": [
        "max_depth = 15\n",
        "bestdepth=-1\n",
        "bestscore = 0\n",
        "\n",
        "for i in range(15):\n",
        "    clf = tree.DecisionTreeClassifier(max_depth = i+1)\n",
        "    #fit the training sets\n",
        "    clf.fit(X_train, y_train)\n",
        "    #update trainscore\n",
        "    trainscore = clf.score(X_train, y_train)\n",
        "    #update valscore\n",
        "    valscore = clf.score(X_val, y_val)\n",
        "    print( 'Depth:', i+1, 'Train Score:', round(trainscore, 4), 'Validation Score:', round(valscore, 4))\n",
        "    if valscore > bestscore :\n",
        "        #update bestscore\n",
        "        bestscore = valscore\n",
        "        #update depth\n",
        "        bestdepth = i+1\n",
        "\n",
        "print('Best depth=', bestdepth, 'best score=', bestscore)      "
      ]
    },
    {
      "cell_type": "markdown",
      "id": "85736128",
      "metadata": {
        "id": "85736128"
      },
      "source": [
        "***Question***\n",
        "\n",
        "What is the best maximum depth? \n",
        "**Best depth = 8 with a val score = 0.7703**\n"
      ]
    },
    {
      "cell_type": "markdown",
      "id": "2a443031",
      "metadata": {
        "id": "2a443031"
      },
      "source": [
        "[Back to top](#Index:) \n",
        "\n",
        "<a id='part3'></a>\n",
        "\n",
        "## Part 3: Random Forest\n",
        "\n",
        "In this section you will learn how to build a random forest model in sklearn and explore the effect of the `max_features` hyperparameter. "
      ]
    },
    {
      "cell_type": "markdown",
      "id": "fbaf0742",
      "metadata": {
        "id": "fbaf0742"
      },
      "source": [
        "Use the `ensemble.RandomForestClassifier()` function to build a random forest model with the default parameters. Use the `.fit()` function to train it, the same as you did for the decision tree. "
      ]
    },
    {
      "cell_type": "code",
      "execution_count": null,
      "id": "c9bce054",
      "metadata": {
        "scrolled": true,
        "id": "c9bce054"
      },
      "outputs": [],
      "source": [
        "np.random.seed(1)\n",
        "rf_clf = ensemble.RandomForestClassifier()\n",
        "rf_clf = rf_clf.fit(X_train, y_train)"
      ]
    },
    {
      "cell_type": "code",
      "execution_count": null,
      "id": "fcd899bf",
      "metadata": {
        "colab": {
          "base_uri": "https://localhost:8080/"
        },
        "id": "fcd899bf",
        "outputId": "41f9c511-8769-42e7-e0cc-af80ef1a156d"
      },
      "outputs": [
        {
          "output_type": "stream",
          "name": "stdout",
          "text": [
            "Full tree guess train/validation  0.9932885906040269 0.7837837837837838\n"
          ]
        }
      ],
      "source": [
        "print ( 'Full tree guess train/validation ',rf_clf.score(X_train, y_train),rf_clf.score(X_val, y_val))"
      ]
    },
    {
      "cell_type": "markdown",
      "id": "a9aee529",
      "metadata": {
        "id": "a9aee529"
      },
      "source": [
        "In random forest classifiers, the algorithm only considers a subset of the features at each split. This is controlled using the `max_features` argument. Normally this subset size is set to the square root of the total number of features, but here we will look at both setting it to the square root `\"sqrt\"` (this is the default in sklearn) and to `None`. when `max_features = None` the algorithm is using all the features at every split. \n"
      ]
    },
    {
      "cell_type": "code",
      "execution_count": null,
      "id": "4771d35a",
      "metadata": {
        "scrolled": true,
        "colab": {
          "base_uri": "https://localhost:8080/"
        },
        "id": "4771d35a",
        "outputId": "c376f9c7-fd92-4b5b-a6a5-6f7ee0d15e79"
      },
      "outputs": [
        {
          "output_type": "stream",
          "name": "stdout",
          "text": [
            "Seed: 1 : Full tree guess train/validation sqrt 0.9933 0.7838\n",
            "Seed: 1 : Full tree guess train/validation None 0.9933 0.7703\n",
            "Seed: 3 : Full tree guess train/validation sqrt 0.9933 0.7838\n",
            "Seed: 3 : Full tree guess train/validation None 0.9933 0.7568\n",
            "Seed: 9 : Full tree guess train/validation sqrt 0.9933 0.7703\n",
            "Seed: 9 : Full tree guess train/validation None 0.9933 0.7568\n",
            "Seed: 22 : Full tree guess train/validation sqrt 0.9933 0.7568\n",
            "Seed: 22 : Full tree guess train/validation None 0.9933 0.7703\n",
            "Seed: 56 : Full tree guess train/validation sqrt 0.9933 0.7568\n",
            "Seed: 56 : Full tree guess train/validation None 0.9933 0.7568\n",
            "Seed: 80 : Full tree guess train/validation sqrt 0.9933 0.7703\n",
            "Seed: 80 : Full tree guess train/validation None 0.9933 0.7703\n",
            "Seed: 133 : Full tree guess train/validation sqrt 0.9933 0.7703\n",
            "Seed: 133 : Full tree guess train/validation None 0.9933 0.7838\n"
          ]
        }
      ],
      "source": [
        "# for loop looking at RF with different max_features \n",
        "\n",
        "\n",
        "seeds = [1,3,9,22,56,80,133]\n",
        "for s in seeds:\n",
        "  np.random.seed(s)\n",
        "  for max_features in [\"sqrt\",  None]:\n",
        "      # build the rf classifier wwith different arguments for max_features\n",
        "      #fit to the training data\n",
        "      rf_clf = ensemble.RandomForestClassifier(max_features = max_features)\n",
        "      rf_clf.fit(X_train, y_train)\n",
        "      print ( 'Seed:',s, ': Full tree guess train/validation', max_features,round(rf_clf.score(X_train, y_train),4),\n",
        "            round(rf_clf.score(X_val, y_val),4))\n"
      ]
    },
    {
      "cell_type": "markdown",
      "id": "b11a50de",
      "metadata": {
        "id": "b11a50de"
      },
      "source": [
        "***Question***\n",
        "\n",
        "Which method performs best? Why might this be?\n",
        "\n",
        "***Max_features = Sqrt performs best i.e. when we use the squareroot number of features***\n",
        "\n",
        "**This is because we are reducing the correlation between the multiple trees**\n",
        "\n",
        "Rerun the cell above with different random seeds (but remember to set it back to `random_seed=1`). What happens? Why is this? \n",
        "\n",
        "**The values for both max_features varies when we use different random seeds as the random forests are then being created using different random sets of samples**\n",
        "\n"
      ]
    },
    {
      "cell_type": "code",
      "source": [
        "np.random.seed(1)"
      ],
      "metadata": {
        "id": "q1LWzedw9OW0"
      },
      "id": "q1LWzedw9OW0",
      "execution_count": null,
      "outputs": []
    },
    {
      "cell_type": "markdown",
      "id": "bb788f4e",
      "metadata": {
        "id": "bb788f4e"
      },
      "source": [
        "[Back to top](#Index:) \n",
        "\n",
        "<a id='part4'></a>\n",
        "\n",
        "## Part 4: Boosting\n",
        "\n",
        "For our boosting algorithm we will use scikit learn's AdaBoost. This boosting algorithm works by building an ensemble of weak classifiers (in our case decision trees) by sequentially weighting the incorrectly classified instances. \n",
        "\n"
      ]
    },
    {
      "cell_type": "markdown",
      "id": "19cf2c93",
      "metadata": {
        "id": "19cf2c93"
      },
      "source": [
        "Use the .AdaBoostClassifier() to build a boosting model and fit it to the training data."
      ]
    },
    {
      "cell_type": "code",
      "execution_count": null,
      "id": "44ca0b27",
      "metadata": {
        "id": "44ca0b27"
      },
      "outputs": [],
      "source": [
        "ab_clf = ensemble.AdaBoostClassifier().fit(X_train, y_train)\n"
      ]
    },
    {
      "cell_type": "code",
      "execution_count": null,
      "id": "ad19401d",
      "metadata": {
        "scrolled": true,
        "colab": {
          "base_uri": "https://localhost:8080/"
        },
        "id": "ad19401d",
        "outputId": "fd7cf7d6-50e3-401b-cec6-8a8ef97a93fa"
      },
      "outputs": [
        {
          "output_type": "stream",
          "name": "stdout",
          "text": [
            "Full tree guess train/validation  0.7785234899328859 0.6351351351351351\n"
          ]
        }
      ],
      "source": [
        "print ( 'Full tree guess train/validation ',ab_clf.score(X_train, y_train),ab_clf.score(X_val, y_val))"
      ]
    },
    {
      "cell_type": "markdown",
      "id": "dd5a8a38",
      "metadata": {
        "id": "dd5a8a38"
      },
      "source": [
        "[Back to top](#Index:) \n",
        "\n",
        "<a id='part5'></a>\n",
        "\n",
        "## Part 5: Model Selection"
      ]
    },
    {
      "cell_type": "markdown",
      "id": "1d0a4cb7",
      "metadata": {
        "id": "1d0a4cb7"
      },
      "source": [
        "***Question***\n",
        "\n",
        "Which model would you use for this dataset? Decision tree, Random Forest or Boosting? Why? \n",
        "\n",
        "***Random Forest with max_features = sqrt which gives the best performance of 0.7838***\n",
        "\n"
      ]
    },
    {
      "cell_type": "markdown",
      "id": "6929de10",
      "metadata": {
        "id": "6929de10"
      },
      "source": [
        "Retrain the best model with both the training and validation data and test it on the test data."
      ]
    },
    {
      "cell_type": "code",
      "execution_count": null,
      "id": "b00bbd51",
      "metadata": {
        "colab": {
          "base_uri": "https://localhost:8080/"
        },
        "id": "b00bbd51",
        "outputId": "bd4788c1-0990-47f2-a51e-85aeeccf197c"
      },
      "outputs": [
        {
          "output_type": "stream",
          "name": "stdout",
          "text": [
            "Full tree guess train/validation  0.9864864864864865 0.7866666666666666\n"
          ]
        }
      ],
      "source": [
        "X_trainval=X[:trainplusvalsize,:]\n",
        "y_trainval = y[:trainplusvalsize ]\n",
        "\n",
        "best_clf = ensemble.RandomForestClassifier(max_features = 'sqrt').fit(X_trainval, y_trainval)\n",
        "\n",
        "print ( 'Full tree guess train/validation ',best_clf.score(X_trainval, y_trainval),best_clf.score(X_test, y_test))"
      ]
    },
    {
      "cell_type": "markdown",
      "id": "02e2d480",
      "metadata": {
        "id": "02e2d480"
      },
      "source": [
        "[Back to top](#Index:) \n",
        "\n",
        "<a id='part6'></a>\n",
        "\n",
        "# Part 6: Feature Selection\n",
        "\n",
        "Feature selection can help us understand our model and the outputs it gives us, as well as remove any irrelevant predictors. In this section we will be looking at how to identify the most important features in a decision tree using two different methods:\n",
        "- Impurity metric approaches\n",
        "- Permutation Importances \n",
        "\n",
        "We will be looking at feature selection for your best model (`best_clf`)"
      ]
    },
    {
      "cell_type": "markdown",
      "id": "2d76cfec",
      "metadata": {
        "id": "2d76cfec"
      },
      "source": [
        "Use the `.feature_importances_` function to get the inbuilt impurity metric measure. Then use the `.argsort()` \n",
        "function to sort the resulting feature importances. \n",
        "\n"
      ]
    },
    {
      "cell_type": "code",
      "execution_count": null,
      "id": "0744ba95",
      "metadata": {
        "colab": {
          "base_uri": "https://localhost:8080/"
        },
        "id": "0744ba95",
        "outputId": "b0786ff7-674b-4718-f4b1-cd2beb51f2f7"
      },
      "outputs": [
        {
          "output_type": "stream",
          "name": "stdout",
          "text": [
            "[27  5 18 19 20 24 23 21 10 15  2 22 26  6  9 12 11  8  1 25  3 14 28 29\n",
            "  7  4 13 16  0 17]\n"
          ]
        }
      ],
      "source": [
        "feature_importances = best_clf.feature_importances_\n",
        "sorted_idx = feature_importances.argsort()\n",
        "print(sorted_idx)"
      ]
    },
    {
      "cell_type": "markdown",
      "id": "23b22eb3",
      "metadata": {
        "id": "23b22eb3"
      },
      "source": [
        "Get the feature names from the dataframe columns `.columns`. Remember to remove the last column from the list as this is the output column."
      ]
    },
    {
      "cell_type": "code",
      "execution_count": null,
      "id": "0d4e4841",
      "metadata": {
        "id": "0d4e4841"
      },
      "outputs": [],
      "source": [
        "feature_names = df.columns[:-1]"
      ]
    },
    {
      "cell_type": "markdown",
      "id": "30ca853f",
      "metadata": {
        "id": "30ca853f"
      },
      "source": [
        "Use the function below to plot the importances."
      ]
    },
    {
      "cell_type": "code",
      "execution_count": null,
      "id": "364411ed",
      "metadata": {
        "id": "364411ed"
      },
      "outputs": [],
      "source": [
        "def plot_impurity_metric_features( feature_importances, sorted_idx, feature_names):\n",
        "    y_ticks = np.arange(0, len(feature_names))\n",
        "    fig, ax = plt.subplots(figsize=(10, 10))\n",
        "    ax.barh(y_ticks, feature_importances[sorted_idx])\n",
        "    ax.set_yticks(y_ticks)\n",
        "    ax.set_yticklabels(feature_names[sorted_idx])\n",
        "    ax.set_title(\"Random Forest Feature Importances\")\n",
        "    fig.tight_layout()\n",
        "    plt.show()\n",
        "\n"
      ]
    },
    {
      "cell_type": "code",
      "execution_count": null,
      "id": "9460d399",
      "metadata": {
        "scrolled": false,
        "colab": {
          "base_uri": "https://localhost:8080/",
          "height": 729
        },
        "id": "9460d399",
        "outputId": "8ee7bb70-17be-4c63-aa93-c94a87517a78"
      },
      "outputs": [
        {
          "output_type": "display_data",
          "data": {
            "text/plain": [
              "<Figure size 720x720 with 1 Axes>"
            ],
            "image/png": "[encoded data removed]"
          },
          "metadata": {
            "needs_background": "light"
          }
        }
      ],
      "source": [
        "# plot the impurity metric feature importances \n",
        "plot_impurity_metric_features( feature_importances, sorted_idx, feature_names)\n"
      ]
    },
    {
      "cell_type": "markdown",
      "id": "5c3c2ff0",
      "metadata": {
        "id": "5c3c2ff0"
      },
      "source": [
        "***Question***\n",
        "\n",
        "What are the 3 most important features? \n",
        "\n",
        "***T_T3, AGE, T_T2***\n"
      ]
    },
    {
      "cell_type": "markdown",
      "id": "72c4520a",
      "metadata": {
        "id": "72c4520a"
      },
      "source": [
        "One of the downsides of the inbuilt impurity metric is that it can only be applied to training data. This doesn't give us any indication of which features will be the most important on unseen data. \n",
        "\n",
        "Instead, we can use the permutation importance to measure the feature importances on both the training and validation sets. "
      ]
    },
    {
      "cell_type": "markdown",
      "id": "6fcc967f",
      "metadata": {
        "id": "6fcc967f"
      },
      "source": [
        "Complete the `permutation_importance` function to calculate the importance of the diffierent features in the training dataset. Then use the `argsort()` to sort the features in order of importance again."
      ]
    },
    {
      "cell_type": "code",
      "execution_count": null,
      "id": "9a3e93f5",
      "metadata": {
        "colab": {
          "base_uri": "https://localhost:8080/"
        },
        "id": "9a3e93f5",
        "outputId": "33a04ad8-2d20-4243-c077-1bdab3c16d58"
      },
      "outputs": [
        {
          "output_type": "stream",
          "name": "stdout",
          "text": [
            "[ 8 28 20 19  1  2 27  5 24 25 12 11 26 23 10  9 15 14  3 29 21  6 18 13\n",
            "  0  7 22 16  4 17]\n"
          ]
        }
      ],
      "source": [
        "# permutation method on both training and test\n",
        "result = permutation_importance(estimator=best_clf , X=X_train, y=y_train, n_repeats=10, random_state=42, n_jobs=2)\n",
        "sorted_idx = result.importances_mean.argsort()\n",
        "print(sorted_idx)\n"
      ]
    },
    {
      "cell_type": "markdown",
      "id": "aa02503c",
      "metadata": {
        "id": "aa02503c"
      },
      "source": [
        "Use the function below to plot the permutation importances."
      ]
    },
    {
      "cell_type": "code",
      "execution_count": null,
      "id": "94042af0",
      "metadata": {
        "scrolled": false,
        "colab": {
          "base_uri": "https://localhost:8080/",
          "height": 729
        },
        "id": "94042af0",
        "outputId": "641d885f-14a9-4230-cea5-0e9367c26590"
      },
      "outputs": [
        {
          "output_type": "display_data",
          "data": {
            "text/plain": [
              "<Figure size 720x720 with 1 Axes>"
            ],
            "image/png": "[encoded data removed]"
          },
          "metadata": {
            "needs_background": "light"
          }
        }
      ],
      "source": [
        "\n",
        "def plot_perm_importance(result, sorted_idx, feature_names):\n",
        "\n",
        "    fig, ax = plt.subplots(figsize=(10, 10))\n",
        "    ax.boxplot(\n",
        "        result.importances[sorted_idx].T, vert=False, labels=feature_names[sorted_idx]\n",
        "    )\n",
        "    ax.set_title(\"Permutation Importances (train set)\")\n",
        "    fig.tight_layout()\n",
        "    plt.show()\n",
        "    \n",
        "plot_perm_importance(result, sorted_idx, feature_names)\n"
      ]
    },
    {
      "cell_type": "markdown",
      "id": "c1d430ff",
      "metadata": {
        "id": "c1d430ff"
      },
      "source": [
        "What do you notice about the difference between the two methods of doing feature selection? Why do you think this is?\n",
        "\n",
        "***The most importantant features are different compared to the purity (Gini) based approach. This is likely because the impurity based approach can put more emphasis on variables with a wide variety of numeric values such as Age.\n",
        "\n",
        "Another difference is that the permutation based approach has marked a lot of features as having zero importance whereas with the impurity most features have an importance***\n",
        "\n"
      ]
    },
    {
      "cell_type": "markdown",
      "id": "58cc1565",
      "metadata": {
        "id": "58cc1565"
      },
      "source": [
        "Now calculate the permutation importance on the test set. "
      ]
    },
    {
      "cell_type": "code",
      "execution_count": null,
      "id": "5dc534c3",
      "metadata": {
        "colab": {
          "base_uri": "https://localhost:8080/",
          "height": 729
        },
        "id": "5dc534c3",
        "outputId": "013e8ea0-269d-4dda-ad50-39998922454d"
      },
      "outputs": [
        {
          "output_type": "display_data",
          "data": {
            "text/plain": [
              "<Figure size 720x720 with 1 Axes>"
            ],
            "image/png": "[encoded data removed]"
          },
          "metadata": {
            "needs_background": "light"
          }
        }
      ],
      "source": [
        "result = permutation_importance(estimator=best_clf, X=X_test, y=y_test, n_repeats=10, random_state=42, n_jobs=2\n",
        ")\n",
        "sorted_idx = result.importances_mean.argsort()\n",
        "\n",
        "plot_perm_importance(result, sorted_idx, feature_names)"
      ]
    },
    {
      "cell_type": "markdown",
      "id": "bf38b03c",
      "metadata": {
        "id": "bf38b03c"
      },
      "source": [
        "What do you see in the test data?\n",
        "\n",
        "Why do some of the importances go negative?\n",
        "\n",
        "***The top most importance answer T-T3 is the same as with the training set however the orders of the importances below that have changed.***\n",
        "\n",
        "***I think some features might go negative as they performed better with the shuffled data so are not good predictors***\n",
        "\n",
        "\n",
        "(3 marks)"
      ]
    },
    {
      "cell_type": "code",
      "execution_count": null,
      "id": "89240a77",
      "metadata": {
        "id": "89240a77"
      },
      "outputs": [],
      "source": []
    },
    {
      "cell_type": "code",
      "execution_count": null,
      "id": "63650985",
      "metadata": {
        "id": "63650985"
      },
      "outputs": [],
      "source": []
    }
  ],
  "metadata": {
    "kernelspec": {
      "display_name": "Python 3 (ipykernel)",
      "language": "python",
      "name": "python3"
    },
    "language_info": {
      "codemirror_mode": {
        "name": "ipython",
        "version": 3
      },
      "file_extension": ".py",
      "mimetype": "text/x-python",
      "name": "python",
      "nbconvert_exporter": "python",
      "pygments_lexer": "ipython3",
      "version": "3.9.7"
    },
    "colab": {
      "provenance": [],
      "include_colab_link": true
    }
  },
  "nbformat": 4,
  "nbformat_minor": 5
}